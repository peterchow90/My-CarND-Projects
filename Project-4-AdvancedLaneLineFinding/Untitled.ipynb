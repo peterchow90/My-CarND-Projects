{
 "cells": [
  {
   "cell_type": "markdown",
   "metadata": {},
   "source": [
    "---\n",
    "## 1st. compute the camera calibration using chessboard images\n",
    "![drawCorners](output_images/drawCorners.png)\n",
    "\n",
    "---\n",
    "## 2nd. Apply a distortion correction to raw images\n",
    "* use objpoints and imgpoints caculated in above cell\n",
    "* skip calibrateCamera calculation once the data is ready to improve perfomace\n",
    "![distored_vs_undistored](output_images/distored_vs_undistored.png)\n",
    "\n",
    "---\n",
    "## 3rd.  Create a thresholded binary image\n",
    "* use sobel operator to creat a horizonal direction binary image\n",
    "* use magnitude threshold filter to creat a binary image\n",
    "* use gradient direction threshold filter to creat binary image\n",
    "* use channel S of color space HLS to filter to get a binary image\n",
    "![sobel_x_vs_magnitude](output_images/sobel_x_vs_magnitude.png)\n",
    "![direction_vs_HLS-S-apace](output_images/direction_vs_HLS-S-apace.png)\n",
    "\n",
    "---\n",
    "## 4th. Apply a perspective transform to rectify binary image (\"birds-eye view\")\n",
    "* wrap image\n",
    "* combine threshold and wrap functions as a whole\n",
    "![combin_x-s_vs_wraped-image](output_images/combin_x-s_vs_wraped-image.png)\n",
    "\n",
    "---\n",
    "## 5th. Detect lane pixels and fit to find the lane boundary\n",
    "* firstly, use window histgram to search the lane line in a wrapped and thresholded image\n",
    "* when got a efficient lane line, next frames can be detected simply\n",
    "![wraped-image_vs_lane-detected-image](output_images/wraped-image_vs_lane-detected-image.png)\n",
    "\n",
    "---\n",
    "## 6th. Determine the curvature of the lane and vehicle position with respect to center\n",
    "* sannity check with left and right lines\n",
    "* write text to image upper left\n",
    "* calculate curvature\n",
    "* draw line on image and wrap back to source image\n",
    "![drawLines_writeText2Image](output_images/drawLines_writeText2Image.png)"
   ]
  }
 ],
 "metadata": {
  "kernelspec": {
   "display_name": "Python 3",
   "language": "python",
   "name": "python3"
  },
  "language_info": {
   "codemirror_mode": {
    "name": "ipython",
    "version": 3
   },
   "file_extension": ".py",
   "mimetype": "text/x-python",
   "name": "python",
   "nbconvert_exporter": "python",
   "pygments_lexer": "ipython3",
   "version": "3.5.2"
  },
  "widgets": {
   "state": {},
   "version": "1.1.2"
  }
 },
 "nbformat": 4,
 "nbformat_minor": 2
}
